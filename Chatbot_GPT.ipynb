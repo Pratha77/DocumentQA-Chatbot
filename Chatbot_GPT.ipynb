{
  "nbformat": 4,
  "nbformat_minor": 0,
  "metadata": {
    "colab": {
      "provenance": []
    },
    "kernelspec": {
      "name": "python3",
      "display_name": "Python 3"
    },
    "language_info": {
      "name": "python"
    }
  },
  "cells": [
    {
      "cell_type": "markdown",
      "source": [
        "##Step 1: Importing all the packages"
      ],
      "metadata": {
        "id": "q3yXr-_c3sZJ"
      }
    },
    {
      "cell_type": "code",
      "execution_count": null,
      "metadata": {
        "id": "xjnDtWiS3d4B"
      },
      "outputs": [],
      "source": [
        "import streamlit as st\n",
        "from PyPDF2 import PdfReader\n",
        "from langchain.text_splitter import RecursiveCharacterTextSplitter\n",
        "from langchain.embeddings.openai import OpenAIEmbeddings\n",
        "from langchain.vectorstores import FAISS\n",
        "from langchain.chains.question_answering import load_qa_chain\n",
        "from langchain_community.chat_models import ChatOpenAI"
      ]
    },
    {
      "cell_type": "markdown",
      "source": [
        "##Step 2: Pass your OpenAI key"
      ],
      "metadata": {
        "id": "7nMPibfw4VwB"
      }
    },
    {
      "cell_type": "code",
      "source": [
        "OPENAI_API_KEY = \"Pass your key here\""
      ],
      "metadata": {
        "id": "oTri5xPp4QhZ"
      },
      "execution_count": null,
      "outputs": []
    },
    {
      "cell_type": "markdown",
      "source": [
        "##Step 3: Creating Website and Creating Upload pdf section"
      ],
      "metadata": {
        "id": "_znHNyuS5WRH"
      }
    },
    {
      "cell_type": "code",
      "source": [
        "#Upload PDF files\n",
        "st.header(\"My first Chatbot\")\n",
        "\n",
        "with  st.sidebar:\n",
        "    st.title(\"Your Documents\")\n",
        "    file = st.file_uploader(\" Upload a PDf file and start asking questions\", type=\"pdf\")"
      ],
      "metadata": {
        "id": "hJppYFcb4ek5"
      },
      "execution_count": null,
      "outputs": []
    },
    {
      "cell_type": "markdown",
      "source": [
        "##Step 4: Extracting the text from pdf file, Breaking into chunks, Generating Embedding using GPT, Storing Embeddings in Vector store, Defining LLM"
      ],
      "metadata": {
        "id": "EnHxo-aQ63SO"
      }
    },
    {
      "cell_type": "code",
      "source": [
        "#Extract the text\n",
        "if file is not None:\n",
        "    pdf_reader = PdfReader(file)\n",
        "    text = \"\"\n",
        "    for page in pdf_reader.pages:\n",
        "        text += page.extract_text()\n",
        "        #st.write(text)\n",
        "\n",
        "#Break it into chunks\n",
        "    text_splitter = RecursiveCharacterTextSplitter(\n",
        "        separators=\"\\n\",\n",
        "        chunk_size=1000,\n",
        "        chunk_overlap=150,\n",
        "        length_function=len\n",
        "    )\n",
        "    chunks = text_splitter.split_text(text)\n",
        "    #st.write(chunks)\n",
        "\n",
        "\n",
        "    # generating embedding\n",
        "    embeddings = OpenAIEmbeddings(openai_api_key=OPENAI_API_KEY)\n",
        "\n",
        "    # creating vector store - FAISS\n",
        "    vector_store = FAISS.from_texts(chunks, embeddings)\n",
        "\n",
        "    # get user question\n",
        "    user_question = st.text_input(\"Type Your question here\")\n",
        "\n",
        "    # do similarity search\n",
        "    if user_question:\n",
        "        match = vector_store.similarity_search(user_question)\n",
        "        #st.write(match)\n",
        "\n",
        "        #define the LLM\n",
        "        llm = ChatOpenAI(\n",
        "            openai_api_key = OPENAI_API_KEY,\n",
        "            temperature = 0,\n",
        "            max_tokens = 1000,\n",
        "            model_name = \"gpt-3.5-turbo\"\n",
        "        )\n",
        "\n",
        "        #output results\n",
        "        #chain -> take the question, get relevant document, pass it to the LLM, generate the output\n",
        "        chain = load_qa_chain(llm, chain_type=\"stuff\")\n",
        "        response = chain.run(input_documents = match, question = user_question)\n",
        "        st.write(response)"
      ],
      "metadata": {
        "id": "8ZMTEeWb48W2"
      },
      "execution_count": null,
      "outputs": []
    }
  ]
}